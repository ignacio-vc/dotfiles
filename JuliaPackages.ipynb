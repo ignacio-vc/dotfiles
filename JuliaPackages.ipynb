{
 "cells": [
  {
   "cell_type": "code",
   "execution_count": null,
   "metadata": {
    "scrolled": false
   },
   "outputs": [],
   "source": [
    "# Packages for Julia 0.6.2\n",
    "\n",
    "Pkg.update()\n",
    "\n",
    "Pkg.add(\"GR\")\n",
    "Pkg.add(\"Atom\")\n",
    "Pkg.add(\"SymPy\")\n",
    "Pkg.add(\"Weave\")\n",
    "Pkg.add(\"Mocha\")\n",
    "Pkg.add(\"Turing\")\n",
    "Pkg.add(\"PkgDev\")\n",
    "Pkg.add(\"PyPlot\")\n",
    "Pkg.add(\"IJulia\")\n",
    "Pkg.add(\"Spectra\")\n",
    "Pkg.add(\"JuliaDB\")\n",
    "Pkg.add(\"Unitful\")\n",
    "Pkg.add(\"Interact\")\n",
    "Pkg.add(\"Latexify\")\n",
    "Pkg.add(\"PlotlyJS\")\n",
    "Pkg.add(\"Cosmology\")\n",
    "Pkg.add(\"ImageView\")\n",
    "Pkg.add(\"FactCheck\")\n",
    "Pkg.add(\"Fontconfig\")\n",
    "Pkg.add(\"ImageMagick\")\n",
    "Pkg.add(\"PlotRecipes\")\n",
    "Pkg.add(\"AbstractFFTs\")\n",
    "Pkg.add(\"Measurements\")\n",
    "Pkg.add(\"PkgBenchmark\")\n",
    "Pkg.add(\"OpenStreetMap\")\n",
    "Pkg.add(\"PackageCompiler\")\n",
    "Pkg.add(\"DynamicalSystems\")\n",
    "Pkg.add(\"TensorOperations\")\n",
    "Pkg.add(\"TaylorIntegration\")\n",
    "Pkg.add(\"ValidatedNumerics\")\n",
    "Pkg.add(\"SortingAlgorithms\")\n",
    "Pkg.add(\"DynamicalBilliards\")\n",
    "Pkg.add(\"IntervalOptimisation\")\n",
    "Pkg.add(\"DifferentialEquations\")\n",
    "\n",
    "# Pkg.status()\n",
    "\n",
    "# https://github.com/JuliaWeb/HttpParser.jl/issues/75\n",
    "\n",
    "versioninfo(true)"
   ]
  },
  {
   "cell_type": "code",
   "execution_count": null,
   "metadata": {
    "scrolled": true
   },
   "outputs": [],
   "source": [
    "versioninfo(true)"
   ]
  },
  {
   "cell_type": "code",
   "execution_count": null,
   "metadata": {},
   "outputs": [],
   "source": [
    "Pkg.checkout(\"IntervalArithmetic\")"
   ]
  },
  {
   "cell_type": "code",
   "execution_count": null,
   "metadata": {},
   "outputs": [],
   "source": [
    "Pkg.clone(\"https://github.com/Keno/AbstractTrees.jl\")\n",
    "Pkg.clone(\"https://github.com/JuliaComputing/Deprecations.jl\")\n",
    "Pkg.clone(\"https://github.com/JuliaComputing/FemtoCleaner.jl\")"
   ]
  },
  {
   "cell_type": "code",
   "execution_count": null,
   "metadata": {},
   "outputs": [],
   "source": [
    "using AbstractTrees\n",
    "using Deprecations\n",
    "using FemtoCleaner"
   ]
  },
  {
   "cell_type": "code",
   "execution_count": null,
   "metadata": {},
   "outputs": [],
   "source": [
    "FemtoCleaner.cleanrepo(\"/home/ignacio/.julia/v0.6/IntervalArithmetic/\"; show_diff = true, delete_local = true)"
   ]
  },
  {
   "cell_type": "code",
   "execution_count": null,
   "metadata": {},
   "outputs": [],
   "source": [
    "FemtoCleaner.cleanrepo(\"https://github.com/JuliaIntervals/IntervalArithmetic.jl\"; show_diff = true, delete_local = true)\n"
   ]
  },
  {
   "cell_type": "code",
   "execution_count": null,
   "metadata": {
    "scrolled": false
   },
   "outputs": [],
   "source": [
    "FemtoCleaner.cleanrepo(\"https://github.com/JuliaArrays/StaticArrays.jl\"; show_diff = true, delete_local = true)\n"
   ]
  },
  {
   "cell_type": "code",
   "execution_count": null,
   "metadata": {},
   "outputs": [],
   "source": []
  }
 ],
 "metadata": {
  "kernelspec": {
   "display_name": "Julia 0.6.2",
   "language": "julia",
   "name": "julia-0.6"
  },
  "language_info": {
   "file_extension": ".jl",
   "mimetype": "application/julia",
   "name": "julia",
   "version": "0.6.2"
  }
 },
 "nbformat": 4,
 "nbformat_minor": 2
}
